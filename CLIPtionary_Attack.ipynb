{
  "nbformat": 4,
  "nbformat_minor": 0,
  "metadata": {
    "colab": {
      "name": "CLIPtionary Attack",
      "provenance": [],
      "collapsed_sections": []
    },
    "kernelspec": {
      "name": "python3",
      "display_name": "Python 3"
    },
    "language_info": {
      "name": "python"
    }
  },
  "cells": [
    {
      "cell_type": "markdown",
      "metadata": {
        "id": "N4elyNboOtVr"
      },
      "source": [
        "# CLIPtionary Attack Notebook\n",
        "<h2>License</h2>\n",
        "Copyright (c) 2021 Bearsharktopusdev\n",
        "\n",
        "Permission is hereby granted, free of charge, to any person obtaining a copy\n",
        "of this software and associated documentation files (the \"Software\"), to deal\n",
        "in the Software without restriction, including without limitation the rights\n",
        "to use, copy, modify, merge, publish, distribute, sublicense, and/or sell\n",
        "copies of the Software, and to permit persons to whom the Software is\n",
        "furnished to do so, subject to the following conditions:\n",
        "\n",
        "The above copyright notice and this permission notice shall be included in all\n",
        "copies or substantial portions of the Software.\n",
        "\n",
        "THE SOFTWARE IS PROVIDED \"AS IS\", WITHOUT WARRANTY OF ANY KIND, EXPRESS OR\n",
        "IMPLIED, INCLUDING BUT NOT LIMITED TO THE WARRANTIES OF MERCHANTABILITY,\n",
        "FITNESS FOR A PARTICULAR PURPOSE AND NONINFRINGEMENT. IN NO EVENT SHALL THE\n",
        "AUTHORS OR COPYRIGHT HOLDERS BE LIABLE FOR ANY CLAIM, DAMAGES OR OTHER\n",
        "LIABILITY, WHETHER IN AN ACTION OF CONTRACT, TORT OR OTHERWISE, ARISING FROM,\n",
        "OUT OF OR IN CONNECTION WITH THE SOFTWARE OR THE USE OR OTHER DEALINGS IN THE\n",
        "SOFTWARE."
      ]
    },
    {
      "cell_type": "markdown",
      "metadata": {
        "id": "DSZVuX7YK_d_"
      },
      "source": [
        "# HOW TO USE\n",
        "<h2>Upload your image in the file thing. Put the image path in Parameters as indicated. Fill in other parameters as desired. Restart + Run All and then go get some coffee because it'll take a little bit.</h2>"
      ]
    },
    {
      "cell_type": "markdown",
      "metadata": {
        "id": "xqAJx0uQK7Fk"
      },
      "source": [
        "# Imports & Shit"
      ]
    },
    {
      "cell_type": "code",
      "metadata": {
        "cellView": "form",
        "id": "jmK7mo7Ht6ml"
      },
      "source": [
        "#@markdown\n",
        "!nvidia-smi"
      ],
      "execution_count": null,
      "outputs": []
    },
    {
      "cell_type": "code",
      "metadata": {
        "cellView": "form",
        "id": "UUulcXSt5sgp"
      },
      "source": [
        "#@markdown\n",
        "%cd /content/\n",
        "\n",
        "!git clone https://github.com/openai/CLIP.git\n",
        "\n",
        "%cd /content/CLIP/\n",
        "\n",
        "!pip install ftfy\n",
        "!pip install tqdm\n",
        "from tqdm import trange\n",
        "\n",
        "import imageio\n",
        "import torchvision\n",
        "\n",
        "from IPython import display\n",
        "from IPython.display import clear_output\n",
        "from IPython.core.interactiveshell import InteractiveShell\n",
        "InteractiveShell.ast_node_interactivity = \"all\"\n",
        "\n",
        "import os\n",
        "import clip\n",
        "!pip install kornia\n",
        "import kornia\n",
        "import torch\n",
        "import torch.nn.functional as F\n",
        "\n",
        "from PIL import Image\n",
        "\n",
        "import random\n",
        "\n",
        "clip.available_models()\n",
        "\n",
        "#RN50x4\n",
        "#ViT-B/32\n",
        "\n",
        "import numpy as np\n",
        "\n",
        "# Load the model\n",
        "perceptor, preprocess = clip.load('ViT-B/32', jit=True) # usually use vit\n",
        "perceptor = perceptor.eval()\n",
        "\n",
        "clear_output()"
      ],
      "execution_count": null,
      "outputs": []
    },
    {
      "cell_type": "code",
      "metadata": {
        "cellView": "form",
        "id": "AAyVxk1A62nR"
      },
      "source": [
        "#@markdown\n",
        "\n",
        "%cd /content/\n",
        "!git clone https://github.com/first20hours/google-10000-english\n",
        "\n",
        "clear_output()"
      ],
      "execution_count": null,
      "outputs": []
    },
    {
      "cell_type": "code",
      "metadata": {
        "cellView": "form",
        "id": "3KusQPKY7oXC"
      },
      "source": [
        "#@markdown\n",
        "file = open(\"/content/google-10000-english/google-10000-english-usa-no-swears-short.txt\", \"r\")\n",
        "short_list = file.read().splitlines()\n",
        "file.close()\n",
        "\n",
        "file = open(\"/content/google-10000-english/google-10000-english-usa-no-swears-medium.txt\", \"r\")\n",
        "medium_list = file.read().splitlines()\n",
        "file.close()\n",
        "\n",
        "file = open(\"/content/google-10000-english/google-10000-english-usa-no-swears-long.txt\", \"r\")\n",
        "long_list = file.read().splitlines()\n",
        "file.close()\n",
        "\n",
        "file = open(\"/content/google-10000-english/20k.txt\", \"r\")\n",
        "full_list = file.read().splitlines()\n",
        "file.close()"
      ],
      "execution_count": null,
      "outputs": []
    },
    {
      "cell_type": "markdown",
      "metadata": {
        "id": "k_--w7FGKft9"
      },
      "source": [
        "# Parameters"
      ]
    },
    {
      "cell_type": "code",
      "metadata": {
        "id": "jfFXuj4oDAuh"
      },
      "source": [
        "check_amount = 100 #100, number of terms to contest per epoch\n",
        "epochs = 10 #10, number of iterations of the checking algorithm for the initial seeding\n",
        "culling_threshold = 1.2 #1.2, any phrase worth less than this many words is culled from the list. \n",
        "# for example, with a threshold of 1 and 100 words, any word that scores less than 0.01 (1/100) is culled\n",
        "# Recommended to be kept between 1 and 2\n",
        "\n",
        "seed_words = \"giant, tall, grotesque, sirenhead, daytime, thin, slender, slimyswampghost, photo\" #\"\", comma separated list of words to seed the initial epochs with.\n",
        "image = \"/content/sirenhead.jpg\" #don't delete /content/, just upload to google colab and put your filename there\n",
        "\n",
        "dictionary_from_top = 5 #Adds this many words from the top of the frequency-rated dictionary to the dictionary attack\n",
        "dictionary_from_random = 5 #Adds this many words randomly from the frequency-rated dictionary to the dictionary attack\n",
        "\n",
        "iterative_guess_words = \"sirenhead, photograph of, slimyswampghost\" #\"\", comma separated list of words for the iterative guess & check step"
      ],
      "execution_count": null,
      "outputs": []
    },
    {
      "cell_type": "markdown",
      "metadata": {
        "id": "cq4dg88eKi3G"
      },
      "source": [
        "# Definitions"
      ]
    },
    {
      "cell_type": "code",
      "metadata": {
        "id": "pE8U-glQ6NRX"
      },
      "source": [
        "device = \"cuda\" if torch.cuda.is_available() else \"cpu\"\n",
        "model, preprocess = clip.load(\"ViT-B/16\", device=device)\n",
        "\n",
        "image = preprocess(Image.open(image)).unsqueeze(0).to(device)\n",
        "image_features = model.encode_image(image)\n",
        "\n",
        "winner_list = []\n",
        "\n",
        "def rate_words(input_list):\n",
        "  print(\"rating\")\n",
        "  text = clip.tokenize(input_list).to(device)\n",
        "\n",
        "  with torch.no_grad():\n",
        "      text_features = model.encode_text(text)\n",
        "      \n",
        "      logits_per_image, logits_per_text = model(image, text)\n",
        "      probs = logits_per_image.softmax(dim=-1).cpu().numpy()\n",
        "\n",
        "  probs_list = probs.tolist()[0]\n",
        "  input_probs_zip = zip(input_list, probs_list)\n",
        "  input_probs_list = []\n",
        "  for i in input_probs_zip:\n",
        "    input_probs_list.append(i)\n",
        "  result = [i for i in input_probs_list if i[1] >= max(culling_threshold/len(input_list), 0.5/check_amount)]\n",
        "  result = remove_duplicates(result)\n",
        "  result.sort(key=lambda x:x[1], reverse=True)\n",
        "\n",
        "  return result\n",
        "\n",
        "def refill_list(input_list):\n",
        "  random_list = random.sample(full_list, check_amount)\n",
        "  while len(input_list) < check_amount:\n",
        "    input_list.append(random_list[0])\n",
        "    random_list.pop(0)\n",
        "\n",
        "def remove_duplicates(input_list):\n",
        "    return list(set([i for i in input_list]))\n",
        "\n",
        "def attack(input_list):\n",
        "  for k in input_list:\n",
        "    global winner_list\n",
        "    winner_list = remove_duplicates(winner_list)\n",
        "    thing = [x[0] for x in winner_list]\n",
        "    thinglen = len(thing)\n",
        "    thinglenlen = len(str.split(thing[0]))+1\n",
        "    new_list = [thing]*thinglenlen\n",
        "    new_new_list = []\n",
        "    for i in range(thinglenlen):\n",
        "      for j in new_list[i]:\n",
        "        newj = str.split(j)\n",
        "        newj.insert(i, k)\n",
        "        newj = \" \".join(newj)\n",
        "        new_new_list.append(newj)\n",
        "    for i in thing:\n",
        "      new_new_list.append(i)\n",
        "    new_new_list.append(k)\n",
        "\n",
        "    winner_list = rate_words(new_new_list)\n",
        "\n",
        "    print('\\n---')\n",
        "    winner_list.sort(key=lambda x:x[1], reverse=True)\n",
        "    for i in winner_list:\n",
        "      print(i)"
      ],
      "execution_count": null,
      "outputs": []
    },
    {
      "cell_type": "markdown",
      "metadata": {
        "id": "JBGyI2X3KnIH"
      },
      "source": [
        "# Dictionary Seeding"
      ]
    },
    {
      "cell_type": "code",
      "metadata": {
        "id": "W3634iR76pM1"
      },
      "source": [
        "seed_word_list = seed_words.split(\", \")\n",
        "initial_attack = full_list[0:check_amount - len(seed_word_list)]\n",
        "initial_attack = initial_attack + seed_word_list\n",
        "\n",
        "for i in range(epochs):\n",
        "  refill_list(initial_attack)\n",
        "  winner_list = rate_words(initial_attack)\n",
        "  initial_attack = [x[0] for x in winner_list]\n",
        "\n",
        "  print('\\n---')\n",
        "  for i in winner_list:\n",
        "    print(i)"
      ],
      "execution_count": null,
      "outputs": []
    },
    {
      "cell_type": "markdown",
      "metadata": {
        "id": "A5EXW_4KtJ9s"
      },
      "source": [
        "# Self-Comparing Attack"
      ]
    },
    {
      "cell_type": "code",
      "metadata": {
        "id": "6mEVRyAztOp9"
      },
      "source": [
        "self_comp_attack = []\n",
        "\n",
        "new = [x[0] for x in winner_list]\n",
        "for k in new:\n",
        "  for i in new:\n",
        "    self_comp_attack.append(k + \" \" + i)\n",
        "  self_comp_attack.append(k)\n",
        "\n",
        "winner_list = rate_words(self_comp_attack)\n",
        "self_comp_attack = [x[0] for x in winner_list]\n",
        "\n",
        "print('\\n---')\n",
        "for i in winner_list:\n",
        "  print(i)"
      ],
      "execution_count": null,
      "outputs": []
    },
    {
      "cell_type": "markdown",
      "metadata": {
        "id": "0dATx3_hOShJ"
      },
      "source": [
        "# Iterative Dictionary Attack"
      ]
    },
    {
      "cell_type": "code",
      "metadata": {
        "id": "gQzWCSLWmYpy"
      },
      "source": [
        "dictionary_attack = full_list[0:dictionary_from_top]\n",
        "random_list = random.sample(full_list, dictionary_from_random)\n",
        "dictionary_attack = dictionary_attack + random_list\n",
        "\n",
        "attack(dictionary_attack)"
      ],
      "execution_count": null,
      "outputs": []
    },
    {
      "cell_type": "markdown",
      "metadata": {
        "id": "XnqPx5nVQRsz"
      },
      "source": [
        "# Synonym/Antonym Attack"
      ]
    },
    {
      "cell_type": "code",
      "metadata": {
        "id": "V1Y0zz_NmZBN"
      },
      "source": [
        ""
      ],
      "execution_count": null,
      "outputs": []
    },
    {
      "cell_type": "markdown",
      "metadata": {
        "id": "qljqspcPKUsb"
      },
      "source": [
        "# iterative Guess & Check"
      ]
    },
    {
      "cell_type": "code",
      "metadata": {
        "id": "ioQ64hgd7AO3"
      },
      "source": [
        "words_list = iterative_guess_words.split(\", \")\n",
        "\n",
        "attack(words_list)"
      ],
      "execution_count": null,
      "outputs": []
    }
  ]
}